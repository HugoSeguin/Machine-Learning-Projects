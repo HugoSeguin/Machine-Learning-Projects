{
 "cells": [
  {
   "cell_type": "markdown",
   "metadata": {},
   "source": [
    "**DS 301: Applied Data Modeling and Predictive Analysis**\n",
    "\n",
    "# Lab 3 – Classifier\n",
    "\n",
    "Nok Wongpiromsarn, 10 August 2022"
   ]
  },
  {
   "cell_type": "markdown",
   "metadata": {},
   "source": [
    "## 1. Get and visualize the data to gain insights"
   ]
  },
  {
   "cell_type": "code",
   "execution_count": 1,
   "metadata": {},
   "outputs": [
    {
     "name": "stdout",
     "output_type": "stream",
     "text": [
      "<class 'pandas.core.frame.DataFrame'>\n",
      "RangeIndex: 1000 entries, 0 to 999\n",
      "Data columns (total 11 columns):\n",
      " #   Column            Non-Null Count  Dtype \n",
      "---  ------            --------------  ----- \n",
      " 0   Unnamed: 0        1000 non-null   int64 \n",
      " 1   Age               1000 non-null   int64 \n",
      " 2   Sex               1000 non-null   object\n",
      " 3   Job               1000 non-null   int64 \n",
      " 4   Housing           1000 non-null   object\n",
      " 5   Saving accounts   817 non-null    object\n",
      " 6   Checking account  606 non-null    object\n",
      " 7   Credit amount     1000 non-null   int64 \n",
      " 8   Duration          1000 non-null   int64 \n",
      " 9   Purpose           1000 non-null   object\n",
      " 10  Risk              1000 non-null   object\n",
      "dtypes: int64(5), object(6)\n",
      "memory usage: 86.1+ KB\n"
     ]
    }
   ],
   "source": [
    "import os\n",
    "import pandas as pd\n",
    "\n",
    "data_path = os.path.join(\"datasets\", \"german_credit_data.csv\")\n",
    "data = pd.read_csv(data_path)\n",
    "\n",
    "data.info()"
   ]
  },
  {
   "cell_type": "code",
   "execution_count": 2,
   "metadata": {},
   "outputs": [
    {
     "data": {
      "text/plain": [
       "Text(0, 0.5, 'Count')"
      ]
     },
     "execution_count": 2,
     "metadata": {},
     "output_type": "execute_result"
    },
    {
     "data": {
      "image/png": "[encoded data removed]",
      "text/plain": [
       "<Figure size 432x288 with 1 Axes>"
      ]
     },
     "metadata": {
      "needs_background": "light"
     },
     "output_type": "display_data"
    }
   ],
   "source": [
    "import matplotlib.pyplot as plt\n",
    "\n",
    "data[\"Risk\"].hist()\n",
    "plt.xlabel(\"Risk variable\")\n",
    "plt.ylabel(\"Count\")"
   ]
  },
  {
   "cell_type": "code",
   "execution_count": 3,
   "metadata": {},
   "outputs": [
    {
     "data": {
      "text/plain": [
       "<AxesSubplot:xlabel='Job', ylabel='Duration'>"
      ]
     },
     "execution_count": 3,
     "metadata": {},
     "output_type": "execute_result"
    },
    {
     "data": {
      "image/png": "[encoded data removed]",
      "text/plain": [
       "<Figure size 432x288 with 1 Axes>"
      ]
     },
     "metadata": {
      "needs_background": "light"
     },
     "output_type": "display_data"
    }
   ],
   "source": [
    "import seaborn as sns\n",
    "\n",
    "sns.boxplot(x=\"Job\", y=\"Duration\", hue=\"Risk\", data=data)"
   ]
  },
  {
   "cell_type": "markdown",
   "metadata": {},
   "source": [
    "## 2. Separate the data into features (x) and label (y) such that\n",
    "\n",
    "- y is a binary target, indicating whether risk is \"good\"\n",
    "- x contains the following numerical columns: Age, Job, Credit amount, Duration.\n"
   ]
  },
  {
   "cell_type": "code",
   "execution_count": 4,
   "metadata": {},
   "outputs": [],
   "source": [
    "attributes = [\"Age\",\n",
    "              \"Job\",\n",
    "              \"Credit amount\",\n",
    "              \"Duration\"\n",
    "             ]\n",
    "\n",
    "x = data[attributes]\n",
    "y = (data[\"Risk\"] == \"good\")"
   ]
  },
  {
   "cell_type": "markdown",
   "metadata": {},
   "source": [
    "## 3. Pick 2 of the following classifiers and train them, using only numeric features.\n",
    "\n",
    "- Gaussian Naive Bayes\n",
    "- Decision Tree\n",
    "- KNN\n",
    "- LogisticRegression\n",
    "\n"
   ]
  },
  {
   "cell_type": "code",
   "execution_count": 5,
   "metadata": {},
   "outputs": [],
   "source": [
    "from sklearn.naive_bayes import GaussianNB\n",
    "clf_gnb = GaussianNB().fit(x,y)\n",
    "\n",
    "from sklearn import tree\n",
    "clf_tree = tree.DecisionTreeClassifier().fit(x,y)\n",
    "\n",
    "from sklearn.neighbors import KNeighborsClassifier\n",
    "clf_knn = KNeighborsClassifier().fit(x,y)\n",
    "\n",
    "from sklearn.linear_model import LogisticRegression\n",
    "clf_lg = LogisticRegression().fit(x,y)"
   ]
  },
  {
   "cell_type": "markdown",
   "metadata": {},
   "source": [
    "## 4. Report the following performance measures on both classifiers. [2 points]\n",
    "\n",
    "- training accuracy\n",
    "- cross-validation accuracy\n",
    "- confusion matrix\n",
    "- precision\n",
    "- recall\n",
    "- F1\n",
    "- AUC"
   ]
  },
  {
   "cell_type": "code",
   "execution_count": 6,
   "metadata": {},
   "outputs": [
    {
     "name": "stdout",
     "output_type": "stream",
     "text": [
      "0.71\n",
      "1.0\n",
      "0.745\n",
      "0.712\n"
     ]
    }
   ],
   "source": [
    "# Training accuracy\n",
    "\n",
    "from sklearn import metrics\n",
    "\n",
    "y_gnb_pred = clf_gnb.predict(x)\n",
    "print(metrics.accuracy_score(y, y_gnb_pred))\n",
    "\n",
    "y_tree_pred = clf_tree.predict(x)\n",
    "print(metrics.accuracy_score(y, y_tree_pred))\n",
    "\n",
    "y_knn_pred = clf_knn.predict(x)\n",
    "print(metrics.accuracy_score(y, y_knn_pred))\n",
    "\n",
    "y_lg_pred = clf_lg.predict(x)\n",
    "print(metrics.accuracy_score(y, y_lg_pred))"
   ]
  },
  {
   "cell_type": "code",
   "execution_count": 7,
   "metadata": {},
   "outputs": [
    {
     "name": "stdout",
     "output_type": "stream",
     "text": [
      "[0.70958084 0.6996997  0.6996997 ]\n",
      "[0.60479042 0.60960961 0.63963964]\n",
      "[0.62874251 0.64864865 0.65465465]\n",
      "[0.70658683 0.6966967  0.70870871]\n"
     ]
    }
   ],
   "source": [
    "# cross-validation accuracy\n",
    "\n",
    "from sklearn.model_selection import cross_val_score\n",
    "\n",
    "print(cross_val_score(clf_gnb, x, y, cv=3, scoring=\"accuracy\"))\n",
    "print(cross_val_score(clf_tree, x, y, cv=3, scoring=\"accuracy\"))\n",
    "print(cross_val_score(clf_knn, x, y, cv=3, scoring=\"accuracy\"))\n",
    "print(cross_val_score(clf_lg, x, y, cv=3, scoring=\"accuracy\"))"
   ]
  },
  {
   "cell_type": "code",
   "execution_count": 8,
   "metadata": {},
   "outputs": [],
   "source": [
    "from sklearn.model_selection import cross_val_predict\n",
    "\n",
    "y_gnb_pred = cross_val_predict(clf_gnb, x, y, cv=3)\n",
    "y_tree_pred = cross_val_predict(clf_tree, x, y, cv=3)\n",
    "y_knn_pred = cross_val_predict(clf_knn, x, y, cv=3)\n",
    "y_lg_pred = cross_val_predict(clf_lg, x, y, cv=3)"
   ]
  },
  {
   "cell_type": "code",
   "execution_count": 9,
   "metadata": {},
   "outputs": [
    {
     "name": "stdout",
     "output_type": "stream",
     "text": [
      "[[ 74 226]\n",
      " [ 71 629]]\n",
      "[[119 181]\n",
      " [202 498]]\n",
      "[[ 57 243]\n",
      " [113 587]]\n",
      "[[ 33 267]\n",
      " [ 29 671]]\n"
     ]
    }
   ],
   "source": [
    "# Confusion matrix\n",
    "\n",
    "from sklearn.metrics import confusion_matrix\n",
    "\n",
    "print(confusion_matrix(y, y_gnb_pred))\n",
    "print(confusion_matrix(y, y_tree_pred))\n",
    "print(confusion_matrix(y, y_knn_pred))\n",
    "print(confusion_matrix(y, y_lg_pred))"
   ]
  },
  {
   "cell_type": "code",
   "execution_count": 10,
   "metadata": {},
   "outputs": [
    {
     "name": "stdout",
     "output_type": "stream",
     "text": [
      "Naive Bayes:\n",
      "  precision: 0.735672514619883\n",
      "  recall:    0.8985714285714286\n",
      "  f1 score:  0.8090032154340836\n",
      "Decision Tree:\n",
      "  precision: 0.7334315169366715\n",
      "  recall:    0.7114285714285714\n",
      "  f1 score:  0.7222625090645394\n",
      "KNN:\n",
      "  precision:  0.7072289156626506\n",
      "  recall:     0.8385714285714285\n",
      "  f1 score:  0.7673202614379084\n",
      "Logistic Regression:\n",
      "  precision:  0.7153518123667377\n",
      "  recall:     0.9585714285714285\n",
      "  f1 score:  0.8192918192918193\n"
     ]
    }
   ],
   "source": [
    "# Precision, recall and F1\n",
    "\n",
    "from sklearn.metrics import precision_score, recall_score, f1_score\n",
    "\n",
    "print(\"Naive Bayes:\")\n",
    "print(\"  precision: {}\".format(precision_score(y, y_gnb_pred)))\n",
    "print(\"  recall:    {}\".format(recall_score(y, y_gnb_pred)))\n",
    "print(\"  f1 score:  {}\".format(f1_score(y, y_gnb_pred)))\n",
    "\n",
    "\n",
    "print(\"Decision Tree:\")\n",
    "print(\"  precision: {}\".format(precision_score(y, y_tree_pred)))\n",
    "print(\"  recall:    {}\".format(recall_score(y, y_tree_pred)))\n",
    "print(\"  f1 score:  {}\".format(f1_score(y, y_tree_pred)))\n",
    "\n",
    "print(\"KNN:\")\n",
    "print(\"  precision: \", precision_score(y, y_knn_pred))\n",
    "print(\"  recall:    \", recall_score(y, y_knn_pred))\n",
    "print(\"  f1 score:  {}\".format(f1_score(y, y_knn_pred)))\n",
    "\n",
    "print(\"Logistic Regression:\")\n",
    "print(\"  precision: \", precision_score(y, y_lg_pred))\n",
    "print(\"  recall:    \", recall_score(y, y_lg_pred))\n",
    "print(\"  f1 score:  {}\".format(f1_score(y, y_lg_pred)))"
   ]
  },
  {
   "cell_type": "code",
   "execution_count": 11,
   "metadata": {},
   "outputs": [],
   "source": [
    "# AUC\n",
    "from sklearn.metrics import precision_recall_curve\n",
    "y_gnb_scores = cross_val_predict(clf_gnb, x, y, cv=3, \n",
    "                                 method=\"predict_proba\")\n",
    "y_tree_scores = cross_val_predict(clf_tree, x, y, cv=3, \n",
    "                                 method=\"predict_proba\")\n",
    "y_knn_scores = cross_val_predict(clf_knn, x, y, cv=3, \n",
    "                                 method=\"predict_proba\")\n",
    "y_lg_scores = cross_val_predict(clf_lg, x, y, cv=3, \n",
    "                                 method=\"predict_proba\")\n",
    "\n",
    "#from sklearn.metrics import roc_auc_score\n",
    "#roc_auc_score(y, y_gnb_scores)"
   ]
  },
  {
   "cell_type": "code",
   "execution_count": 12,
   "metadata": {},
   "outputs": [
    {
     "data": {
      "image/png": "[encoded data removed]",
      "text/plain": [
       "<Figure size 432x288 with 1 Axes>"
      ]
     },
     "metadata": {
      "needs_background": "light"
     },
     "output_type": "display_data"
    }
   ],
   "source": [
    "import matplotlib.pyplot as plt\n",
    "\n",
    "# keep probabilities for the positive outcome only\n",
    "precisions, recalls, thresholds = precision_recall_curve(y, y_lg_scores[:,1])\n",
    "plt.plot(thresholds, precisions[:-1], \"b--\", label=\"Precision\")\n",
    "plt.plot(thresholds, recalls[:-1], \"g-\", label=\"Recall\")\n",
    "plt.grid()\n",
    "plt.legend()\n",
    "plt.xlabel(\"Threshold\")\n",
    "plt.show()"
   ]
  },
  {
   "cell_type": "code",
   "execution_count": 13,
   "metadata": {},
   "outputs": [
    {
     "data": {
      "image/png": "[encoded data removed]",
      "text/plain": [
       "<Figure size 432x288 with 1 Axes>"
      ]
     },
     "metadata": {
      "needs_background": "light"
     },
     "output_type": "display_data"
    }
   ],
   "source": [
    "# Plot precision versus recall\n",
    "plt.plot(recalls, precisions)\n",
    "plt.grid()\n",
    "plt.xlabel(\"Recall\")\n",
    "plt.ylabel(\"Precision\")\n",
    "plt.show()"
   ]
  },
  {
   "cell_type": "code",
   "execution_count": 14,
   "metadata": {},
   "outputs": [
    {
     "name": "stdout",
     "output_type": "stream",
     "text": [
      "0.6200809523809524\n",
      "0.5580952380952381\n",
      "0.5495428571428571\n",
      "0.6310904761904762\n"
     ]
    }
   ],
   "source": [
    "from sklearn.metrics import roc_auc_score\n",
    "\n",
    "print(roc_auc_score(y, y_gnb_scores[:,1]))\n",
    "print(roc_auc_score(y, y_tree_scores[:,1]))\n",
    "print(roc_auc_score(y, y_knn_scores[:,1]))\n",
    "print(roc_auc_score(y, y_lg_scores[:,1]))"
   ]
  },
  {
   "cell_type": "code",
   "execution_count": null,
   "metadata": {},
   "outputs": [],
   "source": []
  }
 ],
 "metadata": {
  "kernelspec": {
   "display_name": "Python 3 (ipykernel)",
   "language": "python",
   "name": "python3"
  },
  "language_info": {
   "codemirror_mode": {
    "name": "ipython",
    "version": 3
   },
   "file_extension": ".py",
   "mimetype": "text/x-python",
   "name": "python",
   "nbconvert_exporter": "python",
   "pygments_lexer": "ipython3",
   "version": "3.10.4"
  }
 },
 "nbformat": 4,
 "nbformat_minor": 4
}
