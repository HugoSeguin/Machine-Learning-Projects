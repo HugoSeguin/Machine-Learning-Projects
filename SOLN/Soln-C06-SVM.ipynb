{
 "cells": [
  {
   "cell_type": "markdown",
   "metadata": {},
   "source": [
    "**DS 301: Applied Data Modeling and Predictive Analysis**\n",
    "\n",
    "# Lab 6 – Support Vector Machine\n",
    "\n",
    "Nok Wongpiromsarn, 10 August 2022\n",
    "\n",
    "**Instructions:**\n",
    "1. Construct a pandas dataframe from Iris dataset.\n",
    "2. Remove outliers. Here, we define outliers as those that are beyond 1.5 times the IQR above the upper quartile or below the lower quartile.\n",
    "3. Apply each of the following methods to deal with the missing features. Discuss the differences in the data obtained from these methods.\n",
    "   - dropna\n",
    "   - fillna\n",
    "   - SimpleImputer\n",
    "4. Use the dataframe obtained from dropna. Visualize the data to see which pairs of the 3 species (setosa, versicolor, virginica) are linearly separable.\n",
    "5. Construct features X and labels y.\n",
    "   - X contains only the petal length and petal width features.\n",
    "   - y is a binary target such that it is 1 if the instance is Virginica and is 0 otherwise.\n",
    "6. Train LinearSVC, SVC, and SGDClassifier to identify whether a given instance is Virginica. Use C = 1. Don't forget to scale your data!\n",
    "7. Pick one of the 3 classifiers and report the following performance measures.\n",
    "   1. training accuracy\n",
    "   2. cross-validation accuracy\n",
    "   3. confusion matrix\n",
    "   4. precision\n",
    "   5. recall\n",
    "   6. F1\n",
    "   7. AUC"
   ]
  },
  {
   "cell_type": "markdown",
   "metadata": {},
   "source": [
    "### 1. Construct a pandas dataframe from Iris dataset"
   ]
  },
  {
   "cell_type": "code",
   "execution_count": 1,
   "metadata": {},
   "outputs": [
    {
     "name": "stdout",
     "output_type": "stream",
     "text": [
      "<class 'pandas.core.frame.DataFrame'>\n",
      "RangeIndex: 150 entries, 0 to 149\n",
      "Data columns (total 5 columns):\n",
      " #   Column             Non-Null Count  Dtype  \n",
      "---  ------             --------------  -----  \n",
      " 0   sepal length (cm)  150 non-null    float64\n",
      " 1   sepal width (cm)   150 non-null    float64\n",
      " 2   petal length (cm)  150 non-null    float64\n",
      " 3   petal width (cm)   150 non-null    float64\n",
      " 4   species            150 non-null    int64  \n",
      "dtypes: float64(4), int64(1)\n",
      "memory usage: 6.0 KB\n"
     ]
    }
   ],
   "source": [
    "import pandas as pd\n",
    "from sklearn import datasets\n",
    "\n",
    "iris = datasets.load_iris()\n",
    "df_feature = pd.DataFrame(iris['data'], columns = iris.feature_names)\n",
    "df_label = pd.DataFrame(iris['target'], columns = ['species'])\n",
    "df = pd.concat([df_feature, df_label], axis=1)\n",
    "\n",
    "df.info()"
   ]
  },
  {
   "cell_type": "markdown",
   "metadata": {},
   "source": [
    "### 2. Remove outliers.\n",
    "\n",
    "Here, we define outliers as those that are beyond 1.5 times the IQR above the upper quartile or below the lower quartile."
   ]
  },
  {
   "cell_type": "markdown",
   "metadata": {},
   "source": [
    "**2.1 Use boxplot to determine outliers.**"
   ]
  },
  {
   "cell_type": "code",
   "execution_count": 2,
   "metadata": {},
   "outputs": [
    {
     "data": {
      "text/plain": [
       "<AxesSubplot:>"
      ]
     },
     "execution_count": 2,
     "metadata": {},
     "output_type": "execute_result"
    },
    {
     "data": {
      "image/png": "[encoded data removed]",
      "text/plain": [
       "<Figure size 1872x864 with 1 Axes>"
      ]
     },
     "metadata": {
      "needs_background": "light"
     },
     "output_type": "display_data"
    }
   ],
   "source": [
    "import matplotlib.pyplot as plt\n",
    "import seaborn as sns \n",
    "\n",
    "plt.figure(figsize=(26, 12))\n",
    "sns.boxplot(data=df[iris.feature_names])"
   ]
  },
  {
   "cell_type": "markdown",
   "metadata": {},
   "source": [
    "**2.2 Replace all the outliers with NaN.**"
   ]
  },
  {
   "cell_type": "code",
   "execution_count": 3,
   "metadata": {},
   "outputs": [
    {
     "name": "stdout",
     "output_type": "stream",
     "text": [
      "<class 'pandas.core.frame.DataFrame'>\n",
      "RangeIndex: 150 entries, 0 to 149\n",
      "Data columns (total 5 columns):\n",
      " #   Column             Non-Null Count  Dtype  \n",
      "---  ------             --------------  -----  \n",
      " 0   sepal length (cm)  150 non-null    float64\n",
      " 1   sepal width (cm)   146 non-null    float64\n",
      " 2   petal length (cm)  150 non-null    float64\n",
      " 3   petal width (cm)   150 non-null    float64\n",
      " 4   species            150 non-null    int64  \n",
      "dtypes: float64(4), int64(1)\n",
      "memory usage: 6.0 KB\n"
     ]
    }
   ],
   "source": [
    "import numpy as np\n",
    "\n",
    "Q3 = df['sepal width (cm)'].quantile(0.75)\n",
    "Q1 = df['sepal width (cm)'].quantile(0.25)\n",
    "IQR = Q3 - Q1\n",
    "\n",
    "# Set the values of sepal width that are beyond 1.5 times the IQR above the upper quartile as NaN\n",
    "df.loc[df['sepal width (cm)'] > Q3 + 1.5*IQR, 'sepal width (cm)'] = np.nan\n",
    "\n",
    "# TODO: Set other outliers as NaN\n",
    "df.loc[df['sepal width (cm)'] < Q1 - 1.5*IQR, 'sepal width (cm)'] = np.nan\n",
    "\n",
    "# Call info to verify that NaN values show up as null\n",
    "df.info()"
   ]
  },
  {
   "cell_type": "markdown",
   "metadata": {},
   "source": [
    "### 3. Apply each of the following methods to deal with the missing features\n",
    "\n",
    "- dropna\n",
    "- fillna\n",
    "- SimpleImputer"
   ]
  },
  {
   "cell_type": "markdown",
   "metadata": {},
   "source": [
    "First, we identify all the rows with null"
   ]
  },
  {
   "cell_type": "code",
   "execution_count": 4,
   "metadata": {},
   "outputs": [
    {
     "data": {
      "text/html": [
       "<div>\n",
       "<style scoped>\n",
       "    .dataframe tbody tr th:only-of-type {\n",
       "        vertical-align: middle;\n",
       "    }\n",
       "\n",
       "    .dataframe tbody tr th {\n",
       "        vertical-align: top;\n",
       "    }\n",
       "\n",
       "    .dataframe thead th {\n",
       "        text-align: right;\n",
       "    }\n",
       "</style>\n",
       "<table border=\"1\" class=\"dataframe\">\n",
       "  <thead>\n",
       "    <tr style=\"text-align: right;\">\n",
       "      <th></th>\n",
       "      <th>sepal length (cm)</th>\n",
       "      <th>sepal width (cm)</th>\n",
       "      <th>petal length (cm)</th>\n",
       "      <th>petal width (cm)</th>\n",
       "      <th>species</th>\n",
       "    </tr>\n",
       "  </thead>\n",
       "  <tbody>\n",
       "    <tr>\n",
       "      <th>15</th>\n",
       "      <td>5.7</td>\n",
       "      <td>NaN</td>\n",
       "      <td>1.5</td>\n",
       "      <td>0.4</td>\n",
       "      <td>0</td>\n",
       "    </tr>\n",
       "    <tr>\n",
       "      <th>32</th>\n",
       "      <td>5.2</td>\n",
       "      <td>NaN</td>\n",
       "      <td>1.5</td>\n",
       "      <td>0.1</td>\n",
       "      <td>0</td>\n",
       "    </tr>\n",
       "    <tr>\n",
       "      <th>33</th>\n",
       "      <td>5.5</td>\n",
       "      <td>NaN</td>\n",
       "      <td>1.4</td>\n",
       "      <td>0.2</td>\n",
       "      <td>0</td>\n",
       "    </tr>\n",
       "    <tr>\n",
       "      <th>60</th>\n",
       "      <td>5.0</td>\n",
       "      <td>NaN</td>\n",
       "      <td>3.5</td>\n",
       "      <td>1.0</td>\n",
       "      <td>1</td>\n",
       "    </tr>\n",
       "  </tbody>\n",
       "</table>\n",
       "</div>"
      ],
      "text/plain": [
       "    sepal length (cm)  sepal width (cm)  petal length (cm)  petal width (cm)  \\\n",
       "15                5.7               NaN                1.5               0.4   \n",
       "32                5.2               NaN                1.5               0.1   \n",
       "33                5.5               NaN                1.4               0.2   \n",
       "60                5.0               NaN                3.5               1.0   \n",
       "\n",
       "    species  \n",
       "15        0  \n",
       "32        0  \n",
       "33        0  \n",
       "60        1  "
      ]
     },
     "execution_count": 4,
     "metadata": {},
     "output_type": "execute_result"
    }
   ],
   "source": [
    "rows_with_null = df.isnull().any(axis=1)\n",
    "df[rows_with_null]"
   ]
  },
  {
   "cell_type": "markdown",
   "metadata": {},
   "source": [
    "**3.1 dropna**"
   ]
  },
  {
   "cell_type": "code",
   "execution_count": 5,
   "metadata": {},
   "outputs": [
    {
     "name": "stdout",
     "output_type": "stream",
     "text": [
      "Empty DataFrame\n",
      "Columns: [sepal length (cm), sepal width (cm), petal length (cm), petal width (cm), species]\n",
      "Index: []\n",
      "<class 'pandas.core.frame.DataFrame'>\n",
      "Int64Index: 146 entries, 0 to 149\n",
      "Data columns (total 5 columns):\n",
      " #   Column             Non-Null Count  Dtype  \n",
      "---  ------             --------------  -----  \n",
      " 0   sepal length (cm)  146 non-null    float64\n",
      " 1   sepal width (cm)   146 non-null    float64\n",
      " 2   petal length (cm)  146 non-null    float64\n",
      " 3   petal width (cm)   146 non-null    float64\n",
      " 4   species            146 non-null    int64  \n",
      "dtypes: float64(4), int64(1)\n",
      "memory usage: 6.8 KB\n"
     ]
    },
    {
     "name": "stderr",
     "output_type": "stream",
     "text": [
      "/tmp/ipykernel_13241/690669317.py:5: UserWarning: Boolean Series key will be reindexed to match DataFrame index.\n",
      "  print(df_dropna[rows_with_null])\n"
     ]
    }
   ],
   "source": [
    "df_dropna = df.dropna(subset=[\"sepal width (cm)\"])\n",
    "\n",
    "# TODO: Use a combination of info(), head(), describe(), and X_dropna[rows_with_null] \n",
    "# to see the difference between df and df_dropna\n",
    "print(df_dropna[rows_with_null])\n",
    "df_dropna.info()"
   ]
  },
  {
   "cell_type": "markdown",
   "metadata": {},
   "source": [
    "**3.2 fillna**"
   ]
  },
  {
   "cell_type": "code",
   "execution_count": 6,
   "metadata": {},
   "outputs": [
    {
     "name": "stdout",
     "output_type": "stream",
     "text": [
      "    sepal length (cm)  sepal width (cm)  petal length (cm)  petal width (cm)  \\\n",
      "15                5.7               3.0                1.5               0.4   \n",
      "32                5.2               3.0                1.5               0.1   \n",
      "33                5.5               3.0                1.4               0.2   \n",
      "60                5.0               3.0                3.5               1.0   \n",
      "\n",
      "    species  \n",
      "15        0  \n",
      "32        0  \n",
      "33        0  \n",
      "60        1  \n",
      "<class 'pandas.core.frame.DataFrame'>\n",
      "RangeIndex: 150 entries, 0 to 149\n",
      "Data columns (total 5 columns):\n",
      " #   Column             Non-Null Count  Dtype  \n",
      "---  ------             --------------  -----  \n",
      " 0   sepal length (cm)  150 non-null    float64\n",
      " 1   sepal width (cm)   150 non-null    float64\n",
      " 2   petal length (cm)  150 non-null    float64\n",
      " 3   petal width (cm)   150 non-null    float64\n",
      " 4   species            150 non-null    int64  \n",
      "dtypes: float64(4), int64(1)\n",
      "memory usage: 6.0 KB\n"
     ]
    }
   ],
   "source": [
    "# TODO: Change val to some other value that is not the mean of df['sepal width (cm)']\n",
    "val = df['sepal width (cm)'].median()\n",
    "df_fillna = df.copy()\n",
    "df_fillna['sepal width (cm)'] = df['sepal width (cm)'].fillna(val)\n",
    "\n",
    "# TODO: Use a combination of info(), head(), describe(), and df_fillna[rows_with_null] \n",
    "# to see the difference between df and df_fillna\n",
    "print(df_fillna[rows_with_null])\n",
    "df_fillna.info()"
   ]
  },
  {
   "cell_type": "markdown",
   "metadata": {},
   "source": [
    "**3.3 SimpleImputer**"
   ]
  },
  {
   "cell_type": "code",
   "execution_count": 7,
   "metadata": {},
   "outputs": [
    {
     "name": "stdout",
     "output_type": "stream",
     "text": [
      "[[5.7 3.  1.5 0.4 0. ]\n",
      " [5.2 3.  1.5 0.1 0. ]\n",
      " [5.5 3.  1.4 0.2 0. ]\n",
      " [5.  3.  3.5 1.  1. ]]\n",
      "<class 'numpy.ndarray'>\n"
     ]
    }
   ],
   "source": [
    "from sklearn.impute import SimpleImputer\n",
    "\n",
    "# TODO: Change strategy to something that is not \"mean\"\n",
    "imputer = SimpleImputer(strategy=\"median\")\n",
    "df_imputer = imputer.fit_transform(df)\n",
    "\n",
    "# TODO: Check the type of df_imputer and call df_imputer[rows_with_null]\n",
    "# to see the difference between df, df_fillna, and df_imputer\n",
    "print(df_imputer[rows_with_null])\n",
    "print(type(df_imputer))"
   ]
  },
  {
   "cell_type": "markdown",
   "metadata": {},
   "source": [
    "### 4. Visualize the data to see which pair of the 3 species are linearly separable."
   ]
  },
  {
   "cell_type": "markdown",
   "metadata": {},
   "source": [
    "First, we separate the input based on their labels to help with plotting"
   ]
  },
  {
   "cell_type": "code",
   "execution_count": 8,
   "metadata": {},
   "outputs": [],
   "source": [
    "X_setosa = df_dropna.loc[df_dropna['species'] == 0, iris.feature_names]\n",
    "X_versicolor = df_dropna.loc[df_dropna['species'] == 1, iris.feature_names]\n",
    "X_virginica = df_dropna.loc[df_dropna['species'] == 2, iris.feature_names]"
   ]
  },
  {
   "cell_type": "markdown",
   "metadata": {},
   "source": [
    "**4.1 Scatter plot of sepal length VS sepal width. Use different color for different species.**"
   ]
  },
  {
   "cell_type": "code",
   "execution_count": 9,
   "metadata": {},
   "outputs": [
    {
     "data": {
      "image/png": "[encoded data removed]",
      "text/plain": [
       "<Figure size 432x288 with 1 Axes>"
      ]
     },
     "metadata": {
      "needs_background": "light"
     },
     "output_type": "display_data"
    }
   ],
   "source": [
    "plt.plot(X_setosa['sepal length (cm)'], X_setosa['sepal width (cm)'], 'bs', label='setosa')\n",
    "plt.plot(X_versicolor['sepal length (cm)'], X_versicolor['sepal width (cm)'], 'yo', label='versicolor')\n",
    "plt.plot(X_virginica['sepal length (cm)'], X_virginica['sepal width (cm)'], 'kx', label='virginica')\n",
    "plt.xlabel(\"Sepal length (cm)\")\n",
    "plt.ylabel(\"Sepal width (cm)\")\n",
    "plt.legend()\n",
    "plt.show()"
   ]
  },
  {
   "cell_type": "markdown",
   "metadata": {},
   "source": [
    "**4.2 Scatter plot of petal length VS petal width. Use different color for different species.**"
   ]
  },
  {
   "cell_type": "code",
   "execution_count": 10,
   "metadata": {},
   "outputs": [
    {
     "data": {
      "image/png": "[encoded data removed]",
      "text/plain": [
       "<Figure size 432x288 with 1 Axes>"
      ]
     },
     "metadata": {
      "needs_background": "light"
     },
     "output_type": "display_data"
    }
   ],
   "source": [
    "plt.plot(X_setosa['petal length (cm)'], X_setosa['petal width (cm)'], 'bs', label='setosa')\n",
    "plt.plot(X_versicolor['petal length (cm)'], X_versicolor['petal width (cm)'], 'yo', label='versicolor')\n",
    "plt.plot(X_virginica['petal length (cm)'], X_virginica['petal width (cm)'], 'kx', label='virginica')\n",
    "plt.xlabel(\"Petal length (cm)\")\n",
    "plt.ylabel(\"Petal width (cm)\")\n",
    "plt.legend()\n",
    "plt.show()"
   ]
  },
  {
   "cell_type": "markdown",
   "metadata": {},
   "source": [
    "### 5. Construct features X and labels y. \n",
    "\n",
    "- X contains only the petal length and petal width features.\n",
    "- y is a binary target such that it is 1 if the instance is Virginica and is 0 otherwise."
   ]
  },
  {
   "cell_type": "code",
   "execution_count": 11,
   "metadata": {},
   "outputs": [],
   "source": [
    "X = df_dropna[['petal length (cm)', 'petal width (cm)']] # petal length, petal width\n",
    "y = df_dropna['species'] == np.argmax(iris['target_names'] == 'virginica')"
   ]
  },
  {
   "cell_type": "markdown",
   "metadata": {},
   "source": [
    "### 6. Train LinearSVC, SVC, and SGDClassifier to identify whether a given instance is Virginica."
   ]
  },
  {
   "cell_type": "code",
   "execution_count": 12,
   "metadata": {},
   "outputs": [],
   "source": [
    "from sklearn.svm import SVC, LinearSVC\n",
    "from sklearn.linear_model import SGDClassifier\n",
    "from sklearn.preprocessing import StandardScaler\n",
    "\n",
    "C = 1\n",
    "alpha = 1 / (C * len(X))\n",
    "\n",
    "# Construct the classifiers\n",
    "lin_clf = LinearSVC(loss=\"hinge\", C=C, random_state=42)\n",
    "svm_clf = SVC(kernel=\"linear\", C=C)\n",
    "sgd_clf = SGDClassifier(loss=\"hinge\", alpha=alpha, max_iter=1000, tol=1e-3, random_state=42)\n",
    "\n",
    "# Scale the features and train the classifiers\n",
    "scaler = StandardScaler()\n",
    "X_scaled = scaler.fit_transform(X)\n",
    "\n",
    "lin_clf.fit(X_scaled, y);\n",
    "svm_clf.fit(X_scaled, y);\n",
    "sgd_clf.fit(X_scaled, y);"
   ]
  },
  {
   "cell_type": "markdown",
   "metadata": {},
   "source": [
    "### 4. Pick one of the 3 classifiers and report the following performance measures\n",
    "\n",
    "- training accuracy\n",
    "- cross-validation accuracy\n",
    "- confusion matrix\n",
    "- precision\n",
    "- recall\n",
    "- F1\n",
    "- AUC\n"
   ]
  },
  {
   "cell_type": "code",
   "execution_count": 13,
   "metadata": {},
   "outputs": [
    {
     "name": "stdout",
     "output_type": "stream",
     "text": [
      "0.952054794520548\n"
     ]
    }
   ],
   "source": [
    "from sklearn.metrics import accuracy_score\n",
    "\n",
    "y_pred = lin_clf.predict(X_scaled)\n",
    "print(accuracy_score(y, y_pred))"
   ]
  },
  {
   "cell_type": "code",
   "execution_count": 14,
   "metadata": {},
   "outputs": [
    {
     "name": "stdout",
     "output_type": "stream",
     "text": [
      "[0.97959184 0.95918367 0.91666667]\n"
     ]
    }
   ],
   "source": [
    "from sklearn.model_selection import cross_val_score\n",
    "\n",
    "print(cross_val_score(lin_clf, X_scaled, y, cv=3, scoring=\"accuracy\"))"
   ]
  },
  {
   "cell_type": "code",
   "execution_count": 15,
   "metadata": {},
   "outputs": [
    {
     "name": "stdout",
     "output_type": "stream",
     "text": [
      "[[93  3]\n",
      " [ 4 46]]\n"
     ]
    }
   ],
   "source": [
    "from sklearn.model_selection import cross_val_predict\n",
    "y_pred_cross = cross_val_predict(lin_clf, X_scaled, y, cv=3)\n",
    "\n",
    "# Compute the confusion matrix by passing the target (y_train_5)\n",
    "# and the prediction (y_train_pred)\n",
    "from sklearn.metrics import confusion_matrix\n",
    "print(confusion_matrix(y, y_pred_cross))"
   ]
  },
  {
   "cell_type": "code",
   "execution_count": 16,
   "metadata": {},
   "outputs": [
    {
     "name": "stdout",
     "output_type": "stream",
     "text": [
      "0.9387755102040817\n",
      "0.92\n",
      "0.9292929292929293\n"
     ]
    }
   ],
   "source": [
    "from sklearn.metrics import precision_score, recall_score, f1_score\n",
    "\n",
    "print(precision_score(y, y_pred_cross))\n",
    "print(recall_score(y, y_pred_cross))\n",
    "print(f1_score(y, y_pred_cross))"
   ]
  },
  {
   "cell_type": "code",
   "execution_count": 17,
   "metadata": {},
   "outputs": [
    {
     "data": {
      "text/plain": [
       "0.9955208333333333"
      ]
     },
     "execution_count": 17,
     "metadata": {},
     "output_type": "execute_result"
    }
   ],
   "source": [
    "from sklearn.metrics import roc_auc_score\n",
    "\n",
    "y_scores = cross_val_predict(lin_clf, X_scaled, y, cv=3, \n",
    "                             method=\"decision_function\")\n",
    "roc_auc_score(y, y_scores)"
   ]
  },
  {
   "cell_type": "code",
   "execution_count": 18,
   "metadata": {},
   "outputs": [
    {
     "name": "stdout",
     "output_type": "stream",
     "text": [
      "0.9387755102040817\n",
      "0.92\n",
      "0.9292929292929293\n"
     ]
    }
   ],
   "source": [
    "from sklearn.metrics import precision_score, recall_score, f1_score\n",
    "\n",
    "print(precision_score(y, y_pred_cross))\n",
    "print(recall_score(y, y_pred_cross))\n",
    "print(f1_score(y, y_pred_cross))"
   ]
  },
  {
   "cell_type": "code",
   "execution_count": null,
   "metadata": {},
   "outputs": [],
   "source": []
  }
 ],
 "metadata": {
  "kernelspec": {
   "display_name": "Python 3 (ipykernel)",
   "language": "python",
   "name": "python3"
  },
  "language_info": {
   "codemirror_mode": {
    "name": "ipython",
    "version": 3
   },
   "file_extension": ".py",
   "mimetype": "text/x-python",
   "name": "python",
   "nbconvert_exporter": "python",
   "pygments_lexer": "ipython3",
   "version": "3.10.4"
  }
 },
 "nbformat": 4,
 "nbformat_minor": 4
}
